{
    "nbformat_minor": 1, 
    "cells": [
        {
            "source": "# Coursera Capstone Project\nCreate a new data science project on Watson Studio and name it Coursera_Capstone.\nThen start a new Jupyter Notebook and write the code to do the following:\n\nWrite some markdown to explain that this notebook will be mainly used for the capstone project.\n1. Import the pandas library as pd.\n2. Import the Numpy library as np.\n3. Print the following the statement: Hello Capstone Project Course!\n4. Add a hidden cell to your notebook.\n\n_- Zachariel Norzagaray_", 
            "cell_type": "markdown", 
            "metadata": {
                "collapsed": true
            }
        }, 
        {
            "execution_count": 1, 
            "cell_type": "code", 
            "metadata": {}, 
            "outputs": [], 
            "source": "import pandas as pd\nimport numpy as np"
        }, 
        {
            "execution_count": 2, 
            "cell_type": "code", 
            "metadata": {}, 
            "outputs": [
                {
                    "output_type": "stream", 
                    "name": "stdout", 
                    "text": "Hello Capstone Project Course!\n"
                }
            ], 
            "source": "print(\"Hello Capstone Project Course!\")"
        }, 
        {
            "execution_count": 3, 
            "cell_type": "code", 
            "metadata": {}, 
            "outputs": [
                {
                    "output_type": "stream", 
                    "name": "stdout", 
                    "text": "This is a hidden cell\n"
                }
            ], 
            "source": "# The code was removed by DSX for sharing."
        }
    ], 
    "metadata": {
        "kernelspec": {
            "display_name": "Python 3.5", 
            "name": "python3", 
            "language": "python"
        }, 
        "language_info": {
            "mimetype": "text/x-python", 
            "nbconvert_exporter": "python", 
            "version": "3.5.5", 
            "name": "python", 
            "file_extension": ".py", 
            "pygments_lexer": "ipython3", 
            "codemirror_mode": {
                "version": 3, 
                "name": "ipython"
            }
        }
    }, 
    "nbformat": 4
}